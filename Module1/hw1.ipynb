{
 "cells": [
  {
   "cell_type": "markdown",
   "id": "6e80e052-9800-442e-b772-8714832ec550",
   "metadata": {},
   "source": [
    "## Homework 1\n",
    "Probability Review and Priors\n",
    "\n",
    "Name: Hyun Suk Ryoo (Max Ryoo)\n",
    "\n",
    "Computing ID: hr2ee"
   ]
  },
  {
   "cell_type": "markdown",
   "id": "667ed6f4-c613-487b-a205-773237d5d1b6",
   "metadata": {},
   "source": [
    "#### Question 1\n",
    "\n",
    "(15) You are a data scientist and are choosing between three approaches, A, B,\n",
    "and C, to a problem. With approach A you will spend a total of 4 days coding\n",
    "and running an algorithm and it will not produce useful results. With approach\n",
    "B you will spend a total of 3 days coding and running an algorithm and it will\n",
    "not produce useful results. With approach C you will spend 1 day coding and\n",
    "running an algorithm and it will produce useful results. You are equally likely to\n",
    "choose among unselected options. What is the expected time in days for you to\n",
    "obtain the results you are looking for, if you continue to select an unselected\n",
    "option when you do not obtain useful results? What is the variance on this time?"
   ]
  },
  {
   "cell_type": "markdown",
   "id": "1bd0b112-2e2d-42a1-a8a8-de57d2109670",
   "metadata": {},
   "source": [
    "#### Solution 1\n",
    "\n",
    "For this problem you can think of the the possible choices as shown below.\n",
    "\n",
    "Starting with A\n",
    "- $A \\rightarrow B \\rightarrow C$\n",
    "- $A \\rightarrow C$\n",
    "\n",
    "Starting with B\n",
    "- $B \\rightarrow A \\rightarrow C$\n",
    "- $B \\rightarrow C$\n",
    "\n",
    "Starting with C\n",
    "- $C$\n",
    "\n",
    "We always end at $C$ given the information that the algorithm will produce useful results. We are also given that the approaches $A$, $B$, and $C$ are all equally likely. First lets compute how many days each option (steps) will take\n",
    "\n",
    "Starting with A\n",
    "- $A \\rightarrow B \\rightarrow C = 4 \\rightarrow 3 \\rightarrow 1 = 8$ days\n",
    "- $A \\rightarrow C = 4 \\rightarrow 1 = 5$ days\n",
    "\n",
    "Starting with B\n",
    "- $B \\rightarrow A \\rightarrow C = 3 \\rightarrow 4 \\rightarrow 1 = 8$ days\n",
    "- $B \\rightarrow C = 3 \\rightarrow 1 = 4$ days\n",
    "\n",
    "Starting with C\n",
    "- $C \\rightarrow 1$ days\n",
    "\n",
    "Additionally we need to compute the probabilities that each approach will be. We are alos given the informatino taht we will choose among the unselected options. \n",
    "\n",
    "Starting with A\n",
    "- $A \\rightarrow B \\rightarrow C = \\frac{1}{3} \\rightarrow \\frac{1}{2} \\rightarrow 1 = \\frac{1}{6}$\n",
    "- $A \\rightarrow C = \\frac{1}{3} \\rightarrow \\frac{1}{2} = \\frac{1}{6}$\n",
    "\n",
    "Starting with B\n",
    "- $B \\rightarrow A \\rightarrow C = \\frac{1}{3} \\rightarrow \\frac{1}{2} \\rightarrow 1 = \\frac{1}{6}$\n",
    "- $B \\rightarrow C =  \\frac{1}{3} \\rightarrow  \\frac{1}{2} =  \\frac{1}{6}$\n",
    "\n",
    "Starting with C\n",
    "- $C \\rightarrow  \\frac{1}{3}$\n",
    "\n",
    "Given all the days and propbabilities we can find the expected number of days with the given probabilites.\n",
    "\n",
    "$D(A_1)$ = The days for the first option starting with A\n",
    "\n",
    "$P(A_1)$ = The probability for the first option starting with A\n",
    "\n",
    "$E(X) = D(A_1) \\cdot P(A_1) + D(A_2) \\cdot P(A_2) + D(B_1) \\cdot P(B_1) + D(B_2) \\cdot P(B_2) + D(C_1) \\cdot P(C_1)$\n",
    "\n",
    "$E(X) = 8 \\cdot \\frac{1}{6} + 5 \\cdot \\frac{1}{6} + 8 \\cdot \\frac{1}{6} + 4 \\cdot \\frac{1}{6} + 1 \\cdot \\frac{1}{3}$\n",
    "\n",
    "$E(X) = \\frac{8}{6} + \\frac{5}{6} + \\frac{8}{6} + \\frac{4}{6} + \\frac{2}{6}$\n",
    "\n",
    "$E(X) = \\frac{27}{6} = 4.5$\n",
    "\n",
    "In order to find the variance let us map the data into data point values.\n",
    "\n",
    "Expected Days = 4.5\n",
    "\n",
    "Paths = [ABC, AC, BAC, BC, C]\n",
    "\n",
    "Proabilities = [$\\frac{1}{6}$, $\\frac{1}{6}$, $\\frac{1}{6}$, $\\frac{1}{6}$,$\\frac{1}{3}$]\n",
    "\n",
    "Actual Days = [8, 5, 8, 4, 1]\n",
    "\n",
    "We can compute the variance of X to be the following formulation.\n",
    "\n",
    "$VAR[X] = E[(X-E[X])^2] = \\Sigma_{x\\in dom(X)} (x-E[x])^2 p(x)$"
   ]
  },
  {
   "cell_type": "code",
   "execution_count": 12,
   "id": "6e8331f8-48b3-4171-a39f-00002f607c16",
   "metadata": {},
   "outputs": [
    {
     "data": {
      "text/plain": [
       "4.5"
      ]
     },
     "execution_count": 12,
     "metadata": {},
     "output_type": "execute_result"
    }
   ],
   "source": [
    "probs = [1/6, 1/6, 1/6, 1/6, 1/3]\n",
    "days = [8,5,8,4,1]\n",
    "expected = 0\n",
    "for i in range(len(days)):\n",
    "    expected = probs[i]*days[i] + expected\n",
    "expected"
   ]
  },
  {
   "cell_type": "code",
   "execution_count": 17,
   "id": "6de14bcf-a096-4fc2-a18a-0260abd53509",
   "metadata": {},
   "outputs": [
    {
     "data": {
      "text/plain": [
       "8.25"
      ]
     },
     "execution_count": 17,
     "metadata": {},
     "output_type": "execute_result"
    }
   ],
   "source": [
    "probs = [1/6, 1/6, 1/6, 1/6, 1/3]\n",
    "actual = 8,5,8,4,1\n",
    "var = 0\n",
    "for i in range(len(actual)):\n",
    "    var = var + (actual[i] - expected)**2 * probs[i]\n",
    "var"
   ]
  },
  {
   "cell_type": "markdown",
   "id": "d53621a9-9742-451a-8958-90a1bc1338ab",
   "metadata": {},
   "source": [
    "From the computation above and code computation we can see that for this problem the expected time to produce results is **4.5** with a variance of **8.25**"
   ]
  },
  {
   "cell_type": "markdown",
   "id": "6d9a3155-503a-43fb-888b-bb525160f6e7",
   "metadata": {},
   "source": [
    "#### Question 2\n",
    "(15) Suppose if it is sunny or not in Charlottesville depends on the weather of\n",
    "the last three days. Show how this can be modeled as a Markov chain."
   ]
  },
  {
   "cell_type": "markdown",
   "id": "9787c605-f171-4f2d-8d3f-84229a01596e",
   "metadata": {},
   "source": [
    "#### Solution 2"
   ]
  },
  {
   "cell_type": "markdown",
   "id": "eed74890-ec19-4423-aa73-c6549fe4fe2b",
   "metadata": {},
   "source": [
    "The decision for tomorrow's weather condition depends on the last three days. Let us say for the sake of explanation we have the following weather data where S= Sunny and N = Not Sunny."
   ]
  },
  {
   "cell_type": "code",
   "execution_count": 58,
   "id": "3fc65067-32bf-4477-932a-a1dcb620d4b8",
   "metadata": {},
   "outputs": [
    {
     "data": {
      "text/plain": [
       "['N', 'S', 'N', 'N', 'S', 'N', 'N', 'N', 'N', 'S']"
      ]
     },
     "execution_count": 58,
     "metadata": {},
     "output_type": "execute_result"
    }
   ],
   "source": [
    "import random\n",
    "sampleSize = 600\n",
    "weather = []\n",
    "while sampleSize:\n",
    "    random.seed(sampleSize)\n",
    "    n = random.randint(1,100)\n",
    "    if n > 50:\n",
    "        weather.append(\"S\")\n",
    "    else:\n",
    "        weather.append(\"N\")\n",
    "    sampleSize = sampleSize -1\n",
    "weather[0:10]"
   ]
  },
  {
   "cell_type": "markdown",
   "id": "08e0783b-ccf3-4e07-b07d-608b6e95f0a8",
   "metadata": {},
   "source": [
    "Since the weather condition is dependent on the last three days the following options are possible for the three day sequence.\n",
    "\n",
    "- Sunny, Sunny, Sunny\n",
    "- Sunny, Sunny, Not Sunny\n",
    "- Sunny, Not Sunny, Sunny\n",
    "- Sunny, Not Sunny, Not Sunny\n",
    "- Not Sunny, Sunny, Sunny\n",
    "- Not Sunny, Sunny, Not Sunny\n",
    "- Not Sunny, Not Sunny, Sunny\n",
    "- Not Sunny, Not Sunny, Not Sunny\n",
    "\n",
    "For each of these possibilites it is possible the next day will be sunny or not sunny."
   ]
  },
  {
   "cell_type": "markdown",
   "id": "f89c6152-50de-4a66-9933-4892092463a3",
   "metadata": {},
   "source": [
    "We can consider making a dictionary value where the KEY is the preceding two days and the value is a tuple where the tuple is (number of occurences, the next day is sunny)."
   ]
  },
  {
   "cell_type": "code",
   "execution_count": 61,
   "id": "e790f084-0615-48da-b039-c53f495686a6",
   "metadata": {},
   "outputs": [],
   "source": [
    "count_dict = {\n",
    "    \"SSS\": (0,0),\n",
    "    \"SSN\" : (0,0),\n",
    "    \"SNS\" : (0,0),\n",
    "    \"SNN\" : (0,0),\n",
    "    \"NSS\" : (0,0),\n",
    "    \"NSN\" : (0,0),\n",
    "    \"NNS\" : (0,0),\n",
    "    \"NNN\" : (0,0)\n",
    "}\n",
    "for i in range(3,len(weather)):\n",
    "    previous = \"\".join(weather[i-3:i])\n",
    "    if previous not in count_dict.keys():\n",
    "        print(previous)\n",
    "        print(weather[i])\n",
    "        break\n",
    "    success, total = count_dict[previous]\n",
    "    if weather[i] == \"S\":\n",
    "        count_dict[previous] = (success+1,total+1)\n",
    "    else:\n",
    "        count_dict[previous] = (success,total+1)"
   ]
  },
  {
   "cell_type": "code",
   "execution_count": 62,
   "id": "8ba73237-73a5-45e6-9d8e-3afedc3f5e27",
   "metadata": {},
   "outputs": [
    {
     "data": {
      "text/plain": [
       "{'SSS': (25, 58),\n",
       " 'SSN': (36, 75),\n",
       " 'SNS': (36, 75),\n",
       " 'SNN': (39, 79),\n",
       " 'NSS': (33, 75),\n",
       " 'NSN': (39, 79),\n",
       " 'NNS': (39, 78),\n",
       " 'NNN': (39, 78)}"
      ]
     },
     "execution_count": 62,
     "metadata": {},
     "output_type": "execute_result"
    }
   ],
   "source": [
    "count_dict"
   ]
  },
  {
   "cell_type": "code",
   "execution_count": 72,
   "id": "28910768-2e68-4739-a06e-4b8ec347aafb",
   "metadata": {},
   "outputs": [
    {
     "data": {
      "text/html": [
       "<div>\n",
       "<style scoped>\n",
       "    .dataframe tbody tr th:only-of-type {\n",
       "        vertical-align: middle;\n",
       "    }\n",
       "\n",
       "    .dataframe tbody tr th {\n",
       "        vertical-align: top;\n",
       "    }\n",
       "\n",
       "    .dataframe thead th {\n",
       "        text-align: right;\n",
       "    }\n",
       "</style>\n",
       "<table border=\"1\" class=\"dataframe\">\n",
       "  <thead>\n",
       "    <tr style=\"text-align: right;\">\n",
       "      <th></th>\n",
       "      <th>Sunny</th>\n",
       "      <th>Not Sunny</th>\n",
       "    </tr>\n",
       "  </thead>\n",
       "  <tbody>\n",
       "    <tr>\n",
       "      <th>SSS</th>\n",
       "      <td>0.431034</td>\n",
       "      <td>0.568966</td>\n",
       "    </tr>\n",
       "    <tr>\n",
       "      <th>SSN</th>\n",
       "      <td>0.480000</td>\n",
       "      <td>0.520000</td>\n",
       "    </tr>\n",
       "    <tr>\n",
       "      <th>SNS</th>\n",
       "      <td>0.480000</td>\n",
       "      <td>0.520000</td>\n",
       "    </tr>\n",
       "    <tr>\n",
       "      <th>SNN</th>\n",
       "      <td>0.493671</td>\n",
       "      <td>0.506329</td>\n",
       "    </tr>\n",
       "    <tr>\n",
       "      <th>NSS</th>\n",
       "      <td>0.440000</td>\n",
       "      <td>0.560000</td>\n",
       "    </tr>\n",
       "    <tr>\n",
       "      <th>NSN</th>\n",
       "      <td>0.493671</td>\n",
       "      <td>0.506329</td>\n",
       "    </tr>\n",
       "    <tr>\n",
       "      <th>NNS</th>\n",
       "      <td>0.500000</td>\n",
       "      <td>0.500000</td>\n",
       "    </tr>\n",
       "    <tr>\n",
       "      <th>NNN</th>\n",
       "      <td>0.500000</td>\n",
       "      <td>0.500000</td>\n",
       "    </tr>\n",
       "  </tbody>\n",
       "</table>\n",
       "</div>"
      ],
      "text/plain": [
       "        Sunny  Not Sunny\n",
       "SSS  0.431034   0.568966\n",
       "SSN  0.480000   0.520000\n",
       "SNS  0.480000   0.520000\n",
       "SNN  0.493671   0.506329\n",
       "NSS  0.440000   0.560000\n",
       "NSN  0.493671   0.506329\n",
       "NNS  0.500000   0.500000\n",
       "NNN  0.500000   0.500000"
      ]
     },
     "execution_count": 72,
     "metadata": {},
     "output_type": "execute_result"
    }
   ],
   "source": [
    "import pandas as pd\n",
    "transition_matrix = pd.DataFrame(count_dict).T\n",
    "transition_matrix.columns = [\"Sunny\", \"Total\"]\n",
    "transition_matrix[\"Not Sunny\"] = (transition_matrix[\"Total\"] - transition_matrix[\"Sunny\"])/transition_matrix[\"Total\"]\n",
    "transition_matrix[\"Sunny\"] = transition_matrix[\"Sunny\"]/transition_matrix[\"Total\"]\n",
    "transition_matrix= transition_matrix.drop([\"Total\"],axis=1)\n",
    "transition_matrix"
   ]
  },
  {
   "cell_type": "markdown",
   "id": "65bdde16-cff8-42ef-9acd-f550836b50f2",
   "metadata": {},
   "source": [
    "# ADD MORE DETAIL"
   ]
  },
  {
   "cell_type": "markdown",
   "id": "e0568d44-036d-4f6a-8e37-1dd0cda5802c",
   "metadata": {},
   "source": [
    "#### Question 3\n",
    "\n",
    "(15) Assume a Gaussian distribution for observations, Xi, i = 1, . . . , N with\n",
    "unknown mean, M, and known variance 5. Suppose the prior for M is Gaussian\n",
    "with variance 10. How large a random sample must be taken (i.e., what is the\n",
    "minimum value for N) to specify an interval having unit length of 1 such that\n",
    "the probability that M lies in this interval is 0.95?"
   ]
  },
  {
   "cell_type": "markdown",
   "id": "29fe4d00-bfc6-465c-919f-919512f7cf72",
   "metadata": {},
   "source": [
    "#### Solution 3"
   ]
  },
  {
   "cell_type": "code",
   "execution_count": null,
   "id": "8fd683b6-abb6-40ad-8017-247d35520fae",
   "metadata": {},
   "outputs": [],
   "source": []
  }
 ],
 "metadata": {
  "kernelspec": {
   "display_name": "Python 3 (ipykernel)",
   "language": "python",
   "name": "python3"
  },
  "language_info": {
   "codemirror_mode": {
    "name": "ipython",
    "version": 3
   },
   "file_extension": ".py",
   "mimetype": "text/x-python",
   "name": "python",
   "nbconvert_exporter": "python",
   "pygments_lexer": "ipython3",
   "version": "3.9.1"
  }
 },
 "nbformat": 4,
 "nbformat_minor": 5
}
