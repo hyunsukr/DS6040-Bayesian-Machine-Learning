{
 "cells": [
  {
   "cell_type": "code",
   "execution_count": 1,
   "id": "e1a695d6-a15e-4904-b17c-d87c7788e231",
   "metadata": {},
   "outputs": [
    {
     "name": "stdout",
     "output_type": "stream",
     "text": [
      "For the discrete binomial distribution:\n",
      "L(n=10,p=0.3|k=5) = p(k=5|n=10,p=0.3) = 0.10291934519999989\n"
     ]
    }
   ],
   "source": [
    "from scipy.stats import binom\n",
    "# set the parameters\n",
    "param_n = 10 # number of trials\n",
    "param_p = 0.3 # probability of success in a single trial\n",
    "k_value = 5 #NOTE: k = the number of successes\n",
    "\n",
    "# compute the probability/likelihood\n",
    "p = binom.pmf(k=k_value, n=param_n, p=param_p) \n",
    "\n",
    "print('For the discrete binomial distribution:')\n",
    "print(f'L(n={param_n},p={param_p}|k={k_value}) = p(k={k_value}|n={param_n},p={param_p}) = {p}')"
   ]
  },
  {
   "cell_type": "code",
   "execution_count": 2,
   "id": "287ec967-0ad0-48d5-8f2a-8c1ac68ddc82",
   "metadata": {},
   "outputs": [
    {
     "name": "stdout",
     "output_type": "stream",
     "text": [
      "0.10291934519999989\n",
      "0.20065812479999992\n",
      "1.9496638305467973\n"
     ]
    }
   ],
   "source": [
    "# set the parameters\n",
    "param_n = 10 # number of trials\n",
    "param_p = 0.3 # probability of success in a single trial\n",
    "k_value = 5 #NOTE: k = the number of successes\n",
    "\n",
    "# compute the probability/likelihood\n",
    "p1 = binom.pmf(k=k_value, n=param_n, p=param_p)\n",
    "\n",
    "\n",
    "# set the parameters\n",
    "param_n = 10 # number of trials\n",
    "param_p = 0.4 # probability of success in a single trial\n",
    "k_value = 5 #NOTE: k = the number of successes\n",
    "\n",
    "# compute the probability/likelihood\n",
    "p2 = binom.pmf(k=k_value, n=param_n, p=param_p) \n",
    "\n",
    "print(p1)\n",
    "print(p2)\n",
    "print(p2/p1)"
   ]
  },
  {
   "cell_type": "code",
   "execution_count": 3,
   "id": "7dcb8673-bc70-4b85-a35a-16ae8d4898a2",
   "metadata": {},
   "outputs": [
    {
     "name": "stdout",
     "output_type": "stream",
     "text": [
      "For the continuous gaussian distribution:\n",
      "L(μ=3,σ=2|x=5) = f(x=5|μ=3,σ=2) = 0.12098536225957168\n"
     ]
    }
   ],
   "source": [
    "from scipy.stats import norm\n",
    "# set the parameters\n",
    "param_loc = 3 # mean\n",
    "param_scale = 2 # standard deviation\n",
    "x_value = 5\n",
    "\n",
    "# compute the probability/likelihood\n",
    "p = norm.pdf(x=x_value, loc=param_loc,scale=param_scale)\n",
    "\n",
    "print('For the continuous gaussian distribution:')\n",
    "print(f'L(\\u03BC={param_loc},\\u03C3={param_scale}|x={x_value}) = f(x={x_value}|\\u03BC={param_loc},\\u03C3={param_scale}) = {p}')\n",
    "# See https://gist.github.com/beniwohli/765262 for the unicodes for the greek alphabet "
   ]
  },
  {
   "cell_type": "code",
   "execution_count": null,
   "id": "2ed9fe26-4651-415e-a5c9-034d5295be69",
   "metadata": {},
   "outputs": [],
   "source": []
  }
 ],
 "metadata": {
  "kernelspec": {
   "display_name": "Python 3 (ipykernel)",
   "language": "python",
   "name": "python3"
  },
  "language_info": {
   "codemirror_mode": {
    "name": "ipython",
    "version": 3
   },
   "file_extension": ".py",
   "mimetype": "text/x-python",
   "name": "python",
   "nbconvert_exporter": "python",
   "pygments_lexer": "ipython3",
   "version": "3.9.1"
  }
 },
 "nbformat": 4,
 "nbformat_minor": 5
}
